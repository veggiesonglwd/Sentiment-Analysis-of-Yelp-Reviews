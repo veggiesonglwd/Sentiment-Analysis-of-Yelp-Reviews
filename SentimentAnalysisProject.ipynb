{
 "cells": [
  {
   "cell_type": "markdown",
   "metadata": {},
   "source": [
    "# ERG3020 Project"
   ]
  },
  {
   "cell_type": "code",
   "execution_count": 1,
   "metadata": {},
   "outputs": [],
   "source": [
    "# IMPORTING ALL THE NECESSARY LIBRARIES AND PACKAGES\n",
    "import pandas as pd\n",
    "import numpy as np\n",
    "import matplotlib.pyplot as plt\n",
    "import seaborn as sns\n",
    "import nltk\n",
    "from nltk.corpus import stopwords\n",
    "import string\n",
    "import math\n",
    "from sklearn.feature_extraction.text import CountVectorizer\n",
    "from sklearn.feature_extraction.text import TfidfVectorizer\n",
    "from sklearn.model_selection import train_test_split, cross_val_score\n",
    "from sklearn.metrics import classification_report\n",
    "from sklearn.metrics import confusion_matrix, accuracy_score, roc_auc_score, roc_curve\n",
    "from sklearn.model_selection import GridSearchCV\n",
    "import re\n",
    "%matplotlib inline\n",
    "sns.set()"
   ]
  },
  {
   "cell_type": "code",
   "execution_count": 2,
   "metadata": {},
   "outputs": [
    {
     "name": "stdout",
     "output_type": "stream",
     "text": [
      "(10000, 7)\n"
     ]
    },
    {
     "data": {
      "text/html": [
       "<div>\n",
       "<style scoped>\n",
       "    .dataframe tbody tr th:only-of-type {\n",
       "        vertical-align: middle;\n",
       "    }\n",
       "\n",
       "    .dataframe tbody tr th {\n",
       "        vertical-align: top;\n",
       "    }\n",
       "\n",
       "    .dataframe thead th {\n",
       "        text-align: right;\n",
       "    }\n",
       "</style>\n",
       "<table border=\"1\" class=\"dataframe\">\n",
       "  <thead>\n",
       "    <tr style=\"text-align: right;\">\n",
       "      <th></th>\n",
       "      <th>user_id</th>\n",
       "      <th>date</th>\n",
       "      <th>text</th>\n",
       "      <th>cool</th>\n",
       "      <th>useful</th>\n",
       "      <th>funny</th>\n",
       "      <th>sentiment</th>\n",
       "    </tr>\n",
       "  </thead>\n",
       "  <tbody>\n",
       "    <tr>\n",
       "      <th>0</th>\n",
       "      <td>rLtl8ZkDX5vH5nAx9C3q5Q</td>\n",
       "      <td>2011-01-26</td>\n",
       "      <td>My wife took me here on my birthday for breakf...</td>\n",
       "      <td>2</td>\n",
       "      <td>5</td>\n",
       "      <td>0</td>\n",
       "      <td>1</td>\n",
       "    </tr>\n",
       "    <tr>\n",
       "      <th>1</th>\n",
       "      <td>0a2KyEL0d3Yb1V6aivbIuQ</td>\n",
       "      <td>2011-07-27</td>\n",
       "      <td>I have no idea why some people give bad review...</td>\n",
       "      <td>0</td>\n",
       "      <td>0</td>\n",
       "      <td>0</td>\n",
       "      <td>1</td>\n",
       "    </tr>\n",
       "    <tr>\n",
       "      <th>2</th>\n",
       "      <td>0hT2KtfLiobPvh6cDC8JQg</td>\n",
       "      <td>2012-06-14</td>\n",
       "      <td>love the gyro plate. Rice is so good and I als...</td>\n",
       "      <td>0</td>\n",
       "      <td>1</td>\n",
       "      <td>0</td>\n",
       "      <td>0</td>\n",
       "    </tr>\n",
       "    <tr>\n",
       "      <th>3</th>\n",
       "      <td>uZetl9T0NcROGOyFfughhg</td>\n",
       "      <td>2010-05-27</td>\n",
       "      <td>Rosie, Dakota, and I LOVE Chaparral Dog Park!!...</td>\n",
       "      <td>1</td>\n",
       "      <td>2</td>\n",
       "      <td>0</td>\n",
       "      <td>1</td>\n",
       "    </tr>\n",
       "    <tr>\n",
       "      <th>4</th>\n",
       "      <td>vYmM4KTsC8ZfQBg-j5MWkw</td>\n",
       "      <td>2012-01-05</td>\n",
       "      <td>General Manager Scott Petello is a good egg!!!...</td>\n",
       "      <td>0</td>\n",
       "      <td>0</td>\n",
       "      <td>0</td>\n",
       "      <td>1</td>\n",
       "    </tr>\n",
       "  </tbody>\n",
       "</table>\n",
       "</div>"
      ],
      "text/plain": [
       "                  user_id        date  \\\n",
       "0  rLtl8ZkDX5vH5nAx9C3q5Q  2011-01-26   \n",
       "1  0a2KyEL0d3Yb1V6aivbIuQ  2011-07-27   \n",
       "2  0hT2KtfLiobPvh6cDC8JQg  2012-06-14   \n",
       "3  uZetl9T0NcROGOyFfughhg  2010-05-27   \n",
       "4  vYmM4KTsC8ZfQBg-j5MWkw  2012-01-05   \n",
       "\n",
       "                                                text  cool  useful  funny  \\\n",
       "0  My wife took me here on my birthday for breakf...     2       5      0   \n",
       "1  I have no idea why some people give bad review...     0       0      0   \n",
       "2  love the gyro plate. Rice is so good and I als...     0       1      0   \n",
       "3  Rosie, Dakota, and I LOVE Chaparral Dog Park!!...     1       2      0   \n",
       "4  General Manager Scott Petello is a good egg!!!...     0       0      0   \n",
       "\n",
       "   sentiment  \n",
       "0          1  \n",
       "1          1  \n",
       "2          0  \n",
       "3          1  \n",
       "4          1  "
      ]
     },
     "execution_count": 2,
     "metadata": {},
     "output_type": "execute_result"
    }
   ],
   "source": [
    "# LOAD and set sentiment columns\n",
    "def sentiment(stars):\n",
    "    if stars == 5:\n",
    "        return 1 #\"Positive\"\n",
    "    elif stars == 4:\n",
    "        return 0 #\"Neutral\"\n",
    "    else:\n",
    "        return -1 #\"Negative\"\n",
    "    \n",
    "data = pd.read_csv('./yelp.csv')\n",
    "data['sentiment'] = data['stars'].apply(sentiment)\n",
    "data = data[['user_id', 'date', 'text', 'cool', 'useful', 'funny', 'sentiment']]\n",
    "print(data.shape)\n",
    "data.head()"
   ]
  },
  {
   "cell_type": "code",
   "execution_count": 3,
   "metadata": {},
   "outputs": [
    {
     "data": {
      "text/plain": [
       " 0    3526\n",
       " 1    3337\n",
       "-1    3137\n",
       "Name: sentiment, dtype: int64"
      ]
     },
     "execution_count": 3,
     "metadata": {},
     "output_type": "execute_result"
    }
   ],
   "source": [
    "counts = data['sentiment'].value_counts() #neutral 3526\n",
    "counts"
   ]
  },
  {
   "cell_type": "code",
   "execution_count": 4,
   "metadata": {},
   "outputs": [
    {
     "data": {
      "text/html": [
       "<div>\n",
       "<style scoped>\n",
       "    .dataframe tbody tr th:only-of-type {\n",
       "        vertical-align: middle;\n",
       "    }\n",
       "\n",
       "    .dataframe tbody tr th {\n",
       "        vertical-align: top;\n",
       "    }\n",
       "\n",
       "    .dataframe thead th {\n",
       "        text-align: right;\n",
       "    }\n",
       "</style>\n",
       "<table border=\"1\" class=\"dataframe\">\n",
       "  <thead>\n",
       "    <tr style=\"text-align: right;\">\n",
       "      <th></th>\n",
       "      <th>user_id</th>\n",
       "      <th>date</th>\n",
       "      <th>text</th>\n",
       "      <th>cool</th>\n",
       "      <th>useful</th>\n",
       "      <th>funny</th>\n",
       "      <th>sentiment</th>\n",
       "      <th>tot_words</th>\n",
       "      <th>avg_words</th>\n",
       "    </tr>\n",
       "  </thead>\n",
       "  <tbody>\n",
       "    <tr>\n",
       "      <th>0</th>\n",
       "      <td>rLtl8ZkDX5vH5nAx9C3q5Q</td>\n",
       "      <td>2011-01-26</td>\n",
       "      <td>My wife took me here on my birthday for breakf...</td>\n",
       "      <td>2</td>\n",
       "      <td>5</td>\n",
       "      <td>0</td>\n",
       "      <td>1</td>\n",
       "      <td>160</td>\n",
       "      <td>13</td>\n",
       "    </tr>\n",
       "    <tr>\n",
       "      <th>1</th>\n",
       "      <td>0a2KyEL0d3Yb1V6aivbIuQ</td>\n",
       "      <td>2011-07-27</td>\n",
       "      <td>I have no idea why some people give bad review...</td>\n",
       "      <td>0</td>\n",
       "      <td>0</td>\n",
       "      <td>0</td>\n",
       "      <td>1</td>\n",
       "      <td>266</td>\n",
       "      <td>14</td>\n",
       "    </tr>\n",
       "    <tr>\n",
       "      <th>2</th>\n",
       "      <td>0hT2KtfLiobPvh6cDC8JQg</td>\n",
       "      <td>2012-06-14</td>\n",
       "      <td>love the gyro plate. Rice is so good and I als...</td>\n",
       "      <td>0</td>\n",
       "      <td>1</td>\n",
       "      <td>0</td>\n",
       "      <td>0</td>\n",
       "      <td>16</td>\n",
       "      <td>8</td>\n",
       "    </tr>\n",
       "    <tr>\n",
       "      <th>3</th>\n",
       "      <td>uZetl9T0NcROGOyFfughhg</td>\n",
       "      <td>2010-05-27</td>\n",
       "      <td>Rosie, Dakota, and I LOVE Chaparral Dog Park!!...</td>\n",
       "      <td>1</td>\n",
       "      <td>2</td>\n",
       "      <td>0</td>\n",
       "      <td>1</td>\n",
       "      <td>78</td>\n",
       "      <td>13</td>\n",
       "    </tr>\n",
       "    <tr>\n",
       "      <th>4</th>\n",
       "      <td>vYmM4KTsC8ZfQBg-j5MWkw</td>\n",
       "      <td>2012-01-05</td>\n",
       "      <td>General Manager Scott Petello is a good egg!!!...</td>\n",
       "      <td>0</td>\n",
       "      <td>0</td>\n",
       "      <td>0</td>\n",
       "      <td>1</td>\n",
       "      <td>89</td>\n",
       "      <td>8</td>\n",
       "    </tr>\n",
       "  </tbody>\n",
       "</table>\n",
       "</div>"
      ],
      "text/plain": [
       "                  user_id        date  \\\n",
       "0  rLtl8ZkDX5vH5nAx9C3q5Q  2011-01-26   \n",
       "1  0a2KyEL0d3Yb1V6aivbIuQ  2011-07-27   \n",
       "2  0hT2KtfLiobPvh6cDC8JQg  2012-06-14   \n",
       "3  uZetl9T0NcROGOyFfughhg  2010-05-27   \n",
       "4  vYmM4KTsC8ZfQBg-j5MWkw  2012-01-05   \n",
       "\n",
       "                                                text  cool  useful  funny  \\\n",
       "0  My wife took me here on my birthday for breakf...     2       5      0   \n",
       "1  I have no idea why some people give bad review...     0       0      0   \n",
       "2  love the gyro plate. Rice is so good and I als...     0       1      0   \n",
       "3  Rosie, Dakota, and I LOVE Chaparral Dog Park!!...     1       2      0   \n",
       "4  General Manager Scott Petello is a good egg!!!...     0       0      0   \n",
       "\n",
       "   sentiment  tot_words  avg_words  \n",
       "0          1        160         13  \n",
       "1          1        266         14  \n",
       "2          0         16          8  \n",
       "3          1         78         13  \n",
       "4          1         89          8  "
      ]
     },
     "execution_count": 4,
     "metadata": {},
     "output_type": "execute_result"
    }
   ],
   "source": [
    "# Let tot_words = number of total words for a reviewer.\n",
    "# Let avg_words = average number of words in a sentence for a reviewer.\n",
    "# Investigate their relationship with review's stars.\n",
    "\n",
    "regex_tot_words = re.compile(\"(?x) (?: [\\w-]+ | [\\x80-\\xff]{3} )\")\n",
    "regex_tot_sentence = re.compile('|'.join([\"\\!\\!\\!\\!\", \"\\!\\!\\!\", \"\\!\\!\", \"\\!\", \"\\:\\)\", \"\\.\\.\\.\\.\", \"\\.\\.\\.\", \"\\.\\.\", \"\\.\", \"\\;\", \"\\?\"]))\n",
    "\n",
    "def count_tot_words(line):\n",
    "    tot_words = len(regex_tot_words.split(line))\n",
    "    return max(1, tot_words)\n",
    "\n",
    "def count_tot_sentence(line):\n",
    "    tot_sentence = len(regex_tot_sentence.findall(line))\n",
    "    return max(1, tot_sentence)\n",
    "\n",
    "data['tot_words'] = data['text'].apply(count_tot_words)\n",
    "data['avg_words'] = data['tot_words'] / data['text'].apply(count_tot_sentence)\n",
    "data['avg_words'] = data['avg_words'].astype(np.int64)\n",
    "data.head()"
   ]
  },
  {
   "cell_type": "code",
   "execution_count": 5,
   "metadata": {},
   "outputs": [
    {
     "name": "stdout",
     "output_type": "stream",
     "text": [
      "           tot_words  sentiment\n",
      "tot_words   1.000000  -0.121657\n",
      "sentiment  -0.121657   1.000000\n"
     ]
    },
    {
     "data": {
      "text/plain": [
       "<seaborn.axisgrid.FacetGrid at 0x1cfe4a7a2c8>"
      ]
     },
     "execution_count": 5,
     "metadata": {},
     "output_type": "execute_result"
    },
    {
     "data": {
      "image/png": "[encoded data removed]",
      "text/plain": [
       "<Figure size 648x216 with 3 Axes>"
      ]
     },
     "metadata": {},
     "output_type": "display_data"
    },
    {
     "data": {
      "image/png": "[encoded data removed]",
      "text/plain": [
       "<Figure size 360x360 with 1 Axes>"
      ]
     },
     "metadata": {},
     "output_type": "display_data"
    }
   ],
   "source": [
    "# Draw relationship with sentiments.\n",
    "print(data[['tot_words', 'sentiment']].corr())\n",
    "graph = sns.FacetGrid(data=data,col='sentiment')\n",
    "graph.map(plt.hist,'tot_words',bins=50,color='red')\n",
    "graph.set(xlim = (0,500))\n",
    "g = sns.catplot(kind=\"box\", x=\"sentiment\", y=\"tot_words\", data=data)\n",
    "g.set(ylim=(0,600))\n",
    "# No Strong Correlation."
   ]
  },
  {
   "cell_type": "code",
   "execution_count": 6,
   "metadata": {},
   "outputs": [
    {
     "name": "stdout",
     "output_type": "stream",
     "text": [
      "           avg_words  sentiment\n",
      "avg_words   1.000000  -0.057706\n",
      "sentiment  -0.057706   1.000000\n"
     ]
    },
    {
     "data": {
      "text/plain": [
       "<seaborn.axisgrid.FacetGrid at 0x1cfe4b65d08>"
      ]
     },
     "execution_count": 6,
     "metadata": {},
     "output_type": "execute_result"
    },
    {
     "data": {
      "image/png": "[encoded data removed]",
      "text/plain": [
       "<Figure size 648x216 with 3 Axes>"
      ]
     },
     "metadata": {},
     "output_type": "display_data"
    },
    {
     "data": {
      "image/png": "[encoded data removed]",
      "text/plain": [
       "<Figure size 360x360 with 1 Axes>"
      ]
     },
     "metadata": {},
     "output_type": "display_data"
    }
   ],
   "source": [
    "# Draw relationship with sentiments.\n",
    "print(data[['avg_words', 'sentiment']].corr())\n",
    "graph = sns.FacetGrid(data=data,col='sentiment')\n",
    "graph.map(plt.hist,'avg_words',bins=50,color='blue')\n",
    "graph.set(xlim = (0,35))\n",
    "g = sns.catplot(kind=\"box\", x=\"sentiment\", y=\"avg_words\", data=data)\n",
    "g.set(ylim=(0,40))\n",
    "# No Strong Correlation."
   ]
  },
  {
   "cell_type": "code",
   "execution_count": 7,
   "metadata": {},
   "outputs": [
    {
     "data": {
      "text/html": [
       "<div>\n",
       "<style scoped>\n",
       "    .dataframe tbody tr th:only-of-type {\n",
       "        vertical-align: middle;\n",
       "    }\n",
       "\n",
       "    .dataframe tbody tr th {\n",
       "        vertical-align: top;\n",
       "    }\n",
       "\n",
       "    .dataframe thead th {\n",
       "        text-align: right;\n",
       "    }\n",
       "</style>\n",
       "<table border=\"1\" class=\"dataframe\">\n",
       "  <thead>\n",
       "    <tr style=\"text-align: right;\">\n",
       "      <th></th>\n",
       "      <th>cool</th>\n",
       "      <th>useful</th>\n",
       "      <th>funny</th>\n",
       "      <th>tot_words</th>\n",
       "      <th>avg_words</th>\n",
       "    </tr>\n",
       "    <tr>\n",
       "      <th>sentiment</th>\n",
       "      <th></th>\n",
       "      <th></th>\n",
       "      <th></th>\n",
       "      <th></th>\n",
       "      <th></th>\n",
       "    </tr>\n",
       "  </thead>\n",
       "  <tbody>\n",
       "    <tr>\n",
       "      <th>-1</th>\n",
       "      <td>0.717565</td>\n",
       "      <td>1.453618</td>\n",
       "      <td>0.834555</td>\n",
       "      <td>153.197004</td>\n",
       "      <td>13.520880</td>\n",
       "    </tr>\n",
       "    <tr>\n",
       "      <th>0</th>\n",
       "      <td>0.954623</td>\n",
       "      <td>1.395916</td>\n",
       "      <td>0.670448</td>\n",
       "      <td>135.227170</td>\n",
       "      <td>13.145207</td>\n",
       "    </tr>\n",
       "    <tr>\n",
       "      <th>1</th>\n",
       "      <td>0.944261</td>\n",
       "      <td>1.381780</td>\n",
       "      <td>0.608631</td>\n",
       "      <td>118.012886</td>\n",
       "      <td>12.643692</td>\n",
       "    </tr>\n",
       "  </tbody>\n",
       "</table>\n",
       "</div>"
      ],
      "text/plain": [
       "               cool    useful     funny   tot_words  avg_words\n",
       "sentiment                                                     \n",
       "-1         0.717565  1.453618  0.834555  153.197004  13.520880\n",
       " 0         0.954623  1.395916  0.670448  135.227170  13.145207\n",
       " 1         0.944261  1.381780  0.608631  118.012886  12.643692"
      ]
     },
     "execution_count": 7,
     "metadata": {},
     "output_type": "execute_result"
    }
   ],
   "source": [
    "# Relationship between sentiment and other columns\n",
    "stval = data.groupby('sentiment').mean()\n",
    "stval"
   ]
  },
  {
   "cell_type": "code",
   "execution_count": 8,
   "metadata": {},
   "outputs": [
    {
     "data": {
      "text/html": [
       "<div>\n",
       "<style scoped>\n",
       "    .dataframe tbody tr th:only-of-type {\n",
       "        vertical-align: middle;\n",
       "    }\n",
       "\n",
       "    .dataframe tbody tr th {\n",
       "        vertical-align: top;\n",
       "    }\n",
       "\n",
       "    .dataframe thead th {\n",
       "        text-align: right;\n",
       "    }\n",
       "</style>\n",
       "<table border=\"1\" class=\"dataframe\">\n",
       "  <thead>\n",
       "    <tr style=\"text-align: right;\">\n",
       "      <th></th>\n",
       "      <th>cool</th>\n",
       "      <th>useful</th>\n",
       "      <th>funny</th>\n",
       "      <th>tot_words</th>\n",
       "      <th>avg_words</th>\n",
       "    </tr>\n",
       "  </thead>\n",
       "  <tbody>\n",
       "    <tr>\n",
       "      <th>cool</th>\n",
       "      <td>1.000000</td>\n",
       "      <td>-0.974686</td>\n",
       "      <td>-0.953366</td>\n",
       "      <td>-0.852587</td>\n",
       "      <td>-0.799150</td>\n",
       "    </tr>\n",
       "    <tr>\n",
       "      <th>useful</th>\n",
       "      <td>-0.974686</td>\n",
       "      <td>1.000000</td>\n",
       "      <td>0.996712</td>\n",
       "      <td>0.947844</td>\n",
       "      <td>0.913320</td>\n",
       "    </tr>\n",
       "    <tr>\n",
       "      <th>funny</th>\n",
       "      <td>-0.953366</td>\n",
       "      <td>0.996712</td>\n",
       "      <td>1.000000</td>\n",
       "      <td>0.970553</td>\n",
       "      <td>0.943314</td>\n",
       "    </tr>\n",
       "    <tr>\n",
       "      <th>tot_words</th>\n",
       "      <td>-0.852587</td>\n",
       "      <td>0.947844</td>\n",
       "      <td>0.970553</td>\n",
       "      <td>1.000000</td>\n",
       "      <td>0.995487</td>\n",
       "    </tr>\n",
       "    <tr>\n",
       "      <th>avg_words</th>\n",
       "      <td>-0.799150</td>\n",
       "      <td>0.913320</td>\n",
       "      <td>0.943314</td>\n",
       "      <td>0.995487</td>\n",
       "      <td>1.000000</td>\n",
       "    </tr>\n",
       "  </tbody>\n",
       "</table>\n",
       "</div>"
      ],
      "text/plain": [
       "               cool    useful     funny  tot_words  avg_words\n",
       "cool       1.000000 -0.974686 -0.953366  -0.852587  -0.799150\n",
       "useful    -0.974686  1.000000  0.996712   0.947844   0.913320\n",
       "funny     -0.953366  0.996712  1.000000   0.970553   0.943314\n",
       "tot_words -0.852587  0.947844  0.970553   1.000000   0.995487\n",
       "avg_words -0.799150  0.913320  0.943314   0.995487   1.000000"
      ]
     },
     "execution_count": 8,
     "metadata": {},
     "output_type": "execute_result"
    }
   ],
   "source": [
    "stval.corr()"
   ]
  },
  {
   "cell_type": "markdown",
   "metadata": {},
   "source": [
    "## Pre Processing:\n",
    "## For now, because of simplicity and time/space complexity, we define the data as:\n",
    "## X[i, j]: For i text, j word appears or not, {0, 1}.\n",
    "## i.e. x_train[322, 19648]=1: For the 322th text, word 'frantically' appears.\n",
    "## Because the reviews with neutral sentiment are not our concern, so we ignore them for now.\n",
    "## y is the sentiment of the text, negative/positive, {0, 1}"
   ]
  },
  {
   "cell_type": "code",
   "execution_count": 9,
   "metadata": {},
   "outputs": [],
   "source": [
    "def set_up_data(data, ignore_Neutral_reviews=False, use_CountVectorizer=True):\n",
    "    # Clean stopwords and punctuations like . , ; ! ?\n",
    "    def clean_process(text):\n",
    "        nopunc = [char for char in text if char not in string.punctuation]\n",
    "        nopunc = ''.join(nopunc)\n",
    "        return [word for word in nopunc.split() if word.lower() not in stopwords.words('english')]\n",
    "\n",
    "    if ignore_Neutral_reviews:\n",
    "        temp = data[data['sentiment']!=0].copy()\n",
    "    else:\n",
    "        temp = data.copy()\n",
    "\n",
    "    # Get X and Y\n",
    "    x = temp['text']\n",
    "    y = temp['sentiment']\n",
    "\n",
    "    # Get vocabulary\n",
    "    if use_CountVectorizer:\n",
    "        vocab = CountVectorizer(analyzer=clean_process).fit(x)\n",
    "    else:\n",
    "        vocab = TfidfVectorizer(analyzer=clean_process).fit(x)\n",
    "    print('length of the vocabulary is', len(vocab.vocabulary_))\n",
    "\n",
    "    # Transform text to vectors\n",
    "    x = vocab.transform(x)\n",
    "    \n",
    "    return vocab, x, y"
   ]
  },
  {
   "cell_type": "code",
   "execution_count": 10,
   "metadata": {},
   "outputs": [],
   "source": [
    "def get_trainable_data(x, y):\n",
    "    #Shape of the matrix:\n",
    "    print(\"Shape of the sparse matrix: \", x.shape)\n",
    "    #Non-zero occurences:\n",
    "    print(\"Non-Zero occurences: \",x.nnz)\n",
    "    # DENSITY OF THE MATRIX\n",
    "    density = (x.nnz/(x.shape[0]*x.shape[1]))*100\n",
    "    print(\"Density of the matrix = \",density)\n",
    "\n",
    "    # SPLITTING THE DATASET INTO TRAINING SET AND TESTING SET\n",
    "    x_train,x_test,y_train,y_test = train_test_split(x,y,test_size=0.2,random_state=101)\n",
    "    return x_train.todense().getA(),x_test.todense().getA(),y_train.values,y_test.values"
   ]
  },
  {
   "cell_type": "code",
   "execution_count": 11,
   "metadata": {},
   "outputs": [
    {
     "name": "stdout",
     "output_type": "stream",
     "text": [
      "length of the vocabulary is 34591\n",
      "Shape of the sparse matrix:  (6474, 34591)\n",
      "Non-Zero occurences:  374430\n",
      "Density of the matrix =  0.16719944269174464\n"
     ]
    }
   ],
   "source": [
    "vocab, x, y = set_up_data(data, ignore_Neutral_reviews=True, use_CountVectorizer=True)\n",
    "x_train,x_test,y_train,y_test = get_trainable_data(x, y)"
   ]
  },
  {
   "cell_type": "code",
   "execution_count": 12,
   "metadata": {},
   "outputs": [],
   "source": [
    "x_train[x_train>0] = 1\n",
    "x_test[x_test>0] = 1\n",
    "y_train[y_train==-1] = 0\n",
    "y_test[y_test==-1] = 0"
   ]
  },
  {
   "cell_type": "code",
   "execution_count": 13,
   "metadata": {
    "scrolled": true
   },
   "outputs": [
    {
     "name": "stdout",
     "output_type": "stream",
     "text": [
      "1\n",
      "frantically\n"
     ]
    }
   ],
   "source": [
    "print(x_train[322, 19648])\n",
    "print(vocab.get_feature_names()[19648])"
   ]
  },
  {
   "cell_type": "markdown",
   "metadata": {},
   "source": [
    "## Then, We Implement NaiveBayes from scratch."
   ]
  },
  {
   "cell_type": "code",
   "execution_count": 14,
   "metadata": {},
   "outputs": [],
   "source": [
    "from math import pi\n",
    "sqrt_2pi = (2 * pi) ** 0.5\n",
    "\n",
    "class NaiveBayes:\n",
    "    def __init__(self):\n",
    "        self.prior = None\n",
    "        self.mu = None\n",
    "        self.sigma = None\n",
    "        pass\n",
    "\n",
    "    def MLE(self, X, y):\n",
    "        # prior P,  ie. array([0.56, 0.44])\n",
    "        prior_N = np.bincount(y)\n",
    "        self.prior = prior_N / y.shape[0]\n",
    "\n",
    "        # conditional P        \n",
    "        self.mu = [[] for _ in range(2)]\n",
    "        for K in range(2):\n",
    "            self.mu[K] = np.sum(X[y==K, :], axis=0) / prior_N[K] # (57,)\n",
    "            self.mu[K] += 1e-7\n",
    "       \n",
    "    def predict(self, X):\n",
    "        _pred_y = [[] for _ in range(2)]\n",
    "        for K in range(2):\n",
    "            Mu = self.mu[K]\n",
    "            InMu = np.log(Mu)\n",
    "            InMu_supp = np.log(1-Mu)\n",
    "            _pred_y[K] = np.log(self.prior[K]) + X.dot(InMu)+(1-X).dot(InMu_supp)\n",
    "        pred_y = (_pred_y[1] >= _pred_y[0]).astype(np.int)\n",
    "        return pred_y"
   ]
  },
  {
   "cell_type": "code",
   "execution_count": 15,
   "metadata": {},
   "outputs": [
    {
     "name": "stdout",
     "output_type": "stream",
     "text": [
      "Confusion Matrix for Naive Bayes:\n",
      "[[414 190]\n",
      " [169 522]]\n",
      "Score: 72.28\n",
      "Classification Report:\n",
      "               precision    recall  f1-score   support\n",
      "\n",
      "           0       0.71      0.69      0.70       604\n",
      "           1       0.73      0.76      0.74       691\n",
      "\n",
      "    accuracy                           0.72      1295\n",
      "   macro avg       0.72      0.72      0.72      1295\n",
      "weighted avg       0.72      0.72      0.72      1295\n",
      "\n"
     ]
    }
   ],
   "source": [
    "model = NaiveBayes()\n",
    "model.MLE(x_train, y_train)\n",
    "predmnb = model.predict(x_test)\n",
    "print(\"Confusion Matrix for Naive Bayes:\")\n",
    "print(confusion_matrix(y_test,predmnb))\n",
    "print(\"Score:\",round(accuracy_score(y_test,predmnb)*100,2))\n",
    "print(\"Classification Report:\\n\",classification_report(y_test,predmnb))"
   ]
  },
  {
   "cell_type": "markdown",
   "metadata": {},
   "source": [
    "## Our Improvements on Naive Bayes"
   ]
  },
  {
   "cell_type": "markdown",
   "metadata": {},
   "source": [
    "### Remove features related to Neutral reviews!"
   ]
  },
  {
   "cell_type": "code",
   "execution_count": 16,
   "metadata": {},
   "outputs": [
    {
     "data": {
      "text/plain": [
       "4199"
      ]
     },
     "execution_count": 16,
     "metadata": {},
     "output_type": "execute_result"
    }
   ],
   "source": [
    "Mu0, Mu1 = model.mu[0], model.mu[1]\n",
    "np.sum(Mu0+Mu1== 2e-7)"
   ]
  },
  {
   "cell_type": "markdown",
   "metadata": {},
   "source": [
    "### Features that are similar between class 0 and 1 can also be removed"
   ]
  },
  {
   "cell_type": "code",
   "execution_count": 17,
   "metadata": {},
   "outputs": [
    {
     "data": {
      "text/plain": [
       "0.0009831020016692054"
      ]
     },
     "execution_count": 17,
     "metadata": {},
     "output_type": "execute_result"
    }
   ],
   "source": [
    "abs(Mu0-Mu1).mean()"
   ]
  },
  {
   "cell_type": "code",
   "execution_count": 59,
   "metadata": {},
   "outputs": [
    {
     "data": {
      "text/plain": [
       "5116"
      ]
     },
     "execution_count": 59,
     "metadata": {},
     "output_type": "execute_result"
    }
   ],
   "source": [
    "feat = (model.mu[0]+model.mu[1]<=3e-7) | (abs(model.mu[0]-model.mu[1])<=0.000983)\n",
    "feat = ~feat\n",
    "np.sum(feat)"
   ]
  },
  {
   "cell_type": "markdown",
   "metadata": {},
   "source": [
    "### Selected Feature Weight"
   ]
  },
  {
   "cell_type": "code",
   "execution_count": 65,
   "metadata": {},
   "outputs": [
    {
     "data": {
      "image/png": "[encoded data removed]",
      "text/plain": [
       "<Figure size 1440x432 with 1 Axes>"
      ]
     },
     "metadata": {
      "needs_background": "light"
     },
     "output_type": "display_data"
    }
   ],
   "source": [
    "_=np.arange(np.sum(feat))\n",
    "plt.figure(figsize=(20,6))\n",
    "plt.bar(_,model.mu[0][feat],15,color='black',label='class 0')\n",
    "plt.legend()\n",
    "plt.show()"
   ]
  },
  {
   "cell_type": "code",
   "execution_count": 66,
   "metadata": {},
   "outputs": [
    {
     "data": {
      "image/png": "[encoded data removed]",
      "text/plain": [
       "<Figure size 1440x432 with 1 Axes>"
      ]
     },
     "metadata": {
      "needs_background": "light"
     },
     "output_type": "display_data"
    }
   ],
   "source": [
    "_=np.arange(np.sum(feat))\n",
    "plt.figure(figsize=(20,6))\n",
    "plt.bar(_,model.mu[1][feat],12,color='black',label='class 1')\n",
    "plt.legend()\n",
    "plt.show()"
   ]
  },
  {
   "cell_type": "markdown",
   "metadata": {},
   "source": [
    "### New model with feature selection, improved a little bit."
   ]
  },
  {
   "cell_type": "code",
   "execution_count": 19,
   "metadata": {},
   "outputs": [
    {
     "name": "stdout",
     "output_type": "stream",
     "text": [
      "Confusion Matrix for Naive Bayes:\n",
      "[[395 209]\n",
      " [143 548]]\n",
      "Score: 72.82\n",
      "Classification Report:\n",
      "               precision    recall  f1-score   support\n",
      "\n",
      "           0       0.73      0.65      0.69       604\n",
      "           1       0.72      0.79      0.76       691\n",
      "\n",
      "    accuracy                           0.73      1295\n",
      "   macro avg       0.73      0.72      0.72      1295\n",
      "weighted avg       0.73      0.73      0.73      1295\n",
      "\n"
     ]
    }
   ],
   "source": [
    "new_model = NaiveBayes()\n",
    "new_model.MLE(x_train[:,feat], y_train)\n",
    "predmnb = new_model.predict(x_test[:,feat])\n",
    "print(\"Confusion Matrix for Naive Bayes:\")\n",
    "print(confusion_matrix(y_test,predmnb))\n",
    "print(\"Score:\",round(accuracy_score(y_test,predmnb)*100,2))\n",
    "print(\"Classification Report:\\n\",classification_report(y_test,predmnb))"
   ]
  },
  {
   "cell_type": "markdown",
   "metadata": {},
   "source": [
    "## Other ML algorithms from sklearn"
   ]
  },
  {
   "cell_type": "code",
   "execution_count": 20,
   "metadata": {},
   "outputs": [],
   "source": [
    "from sklearn.naive_bayes import MultinomialNB\n",
    "from sklearn.neural_network import MLPClassifier\n",
    "from sklearn.neighbors import KNeighborsClassifier\n",
    "from sklearn.ensemble import RandomForestClassifier\n",
    "from sklearn.svm import SVC\n",
    "\n",
    "def my_MultinomialNB(x_train,x_test,y_train,y_test):\n",
    "    model = MultinomialNB()\n",
    "    model.fit(x_train, y_train)\n",
    "    predmnb = model.predict(x_test)\n",
    "    print(\"Confusion Matrix for Multinomial Naive Bayes:\")\n",
    "    print(confusion_matrix(y_test,predmnb))\n",
    "    print(\"Score:\",round(accuracy_score(y_test,predmnb)*100,2))\n",
    "    print(\"Classification Report:\\n\",classification_report(y_test,predmnb))\n",
    "    return model\n",
    "\n",
    "def my_MLPClassifier(x_train,x_test,y_train,y_test):\n",
    "    # MULTILAYER PERCEPTRON CLASSIFIER\n",
    "    mlp = MLPClassifier()\n",
    "    mlp.fit(x_train,y_train)\n",
    "    predmlp = mlp.predict(x_test)\n",
    "    print(\"Confusion Matrix for Multilayer Perceptron Classifier:\")\n",
    "    print(confusion_matrix(y_test,predmlp))\n",
    "    print(\"Score:\",round(accuracy_score(y_test,predmlp)*100,2))\n",
    "    print(\"Classification Report:\")\n",
    "    print(classification_report(y_test,predmlp))\n",
    "    return mlp\n",
    "\n",
    "def my_KNeighborsClassifier(x_train,x_test,y_train,y_test):\n",
    "    # KNN\n",
    "    knn = KNeighborsClassifier(n_neighbors=10)\n",
    "    knn.fit(x_train,y_train)\n",
    "    predknn = knn.predict(x_test)\n",
    "    print(\"Confusion Matrix for K Neighbors Classifier:\")\n",
    "    print(confusion_matrix(y_test,predknn))\n",
    "    print(\"Score: \",round(accuracy_score(y_test,predknn)*100,2))\n",
    "    print(\"Classification Report:\")\n",
    "    print(classification_report(y_test,predknn))\n",
    "    return knn\n",
    "\n",
    "def my_RandomForest(x_train,x_test,y_train,y_test):\n",
    "    # Random Forest\n",
    "    rmfr = RandomForestClassifier()\n",
    "    rmfr.fit(x_train,y_train)\n",
    "    predrmfr = rmfr.predict(x_test)\n",
    "    print(\"Confusion Matrix for Random Forest Classifier:\")\n",
    "    print(confusion_matrix(y_test,predrmfr))\n",
    "    print(\"Score:\",round(accuracy_score(y_test,predrmfr)*100,2))\n",
    "    print(\"Classification Report:\\n\",classification_report(y_test,predrmfr))\n",
    "    return rmfr\n",
    "\n",
    "def my_SVM(x_train,x_test,y_train,y_test):\n",
    "    # Support vector machine\n",
    "    svm = SVC(random_state=101)\n",
    "    svm.fit(x_train,y_train)\n",
    "    predsvm = svm.predict(x_test)\n",
    "    print(\"Confusion Matrix for Support Vector Machines:\")\n",
    "    print(confusion_matrix(y_test,predsvm))\n",
    "    print(\"Score:\",round(accuracy_score(y_test,predsvm)*100,2))\n",
    "    print(\"Classification Report:\\n\", classification_report(y_test,predsvm))\n",
    "    return svm"
   ]
  },
  {
   "cell_type": "markdown",
   "metadata": {},
   "source": [
    "## Also,\n",
    "## We use Naive Bayes to train and test (Because it is robust),\n",
    "## To Set up the configuration of the Neutral reviews and Vectorizer, "
   ]
  },
  {
   "cell_type": "code",
   "execution_count": 12,
   "metadata": {},
   "outputs": [
    {
     "name": "stdout",
     "output_type": "stream",
     "text": [
      "length of the vocabulary is 44012\n",
      "Shape of the sparse matrix:  (10000, 44012)\n",
      "Non-Zero occurences:  583230\n",
      "Density of the matrix =  0.1325161319640098\n",
      "Confusion Matrix for Multinomial Naive Bayes:\n",
      "[[429 157  40]\n",
      " [ 99 485 129]\n",
      " [ 57 259 345]]\n",
      "Score: 62.95\n",
      "Classification Report:               precision    recall  f1-score   support\n",
      "\n",
      "          -1       0.73      0.69      0.71       626\n",
      "           0       0.54      0.68      0.60       713\n",
      "           1       0.67      0.52      0.59       661\n",
      "\n",
      "    accuracy                           0.63      2000\n",
      "   macro avg       0.65      0.63      0.63      2000\n",
      "weighted avg       0.64      0.63      0.63      2000\n",
      "\n"
     ]
    }
   ],
   "source": [
    "vocab, x, y = set_up_data(data, ignore_Neutral_reviews=False, use_CountVectorizer=True)\n",
    "x_train,x_test,y_train,y_test = get_trainable_data(x, y)\n",
    "model = my_MultinomialNB(x_train,x_test,y_train,y_test)"
   ]
  },
  {
   "cell_type": "code",
   "execution_count": 17,
   "metadata": {},
   "outputs": [
    {
     "name": "stdout",
     "output_type": "stream",
     "text": [
      "length of the vocabulary is 44012\n",
      "Shape of the sparse matrix:  (10000, 44012)\n",
      "Non-Zero occurences:  583230\n",
      "Density of the matrix =  0.1325161319640098\n",
      "Confusion Matrix for Multinomial Naive Bayes:\n",
      "[[352 258  16]\n",
      " [ 54 595  64]\n",
      " [ 31 417 213]]\n",
      "Score: 58.0\n",
      "Classification Report:               precision    recall  f1-score   support\n",
      "\n",
      "          -1       0.81      0.56      0.66       626\n",
      "           0       0.47      0.83      0.60       713\n",
      "           1       0.73      0.32      0.45       661\n",
      "\n",
      "    accuracy                           0.58      2000\n",
      "   macro avg       0.67      0.57      0.57      2000\n",
      "weighted avg       0.66      0.58      0.57      2000\n",
      "\n"
     ]
    }
   ],
   "source": [
    "vocab, x, y = set_up_data(data, ignore_Neutral_reviews=False, use_CountVectorizer=False)\n",
    "x_train,x_test,y_train,y_test = get_trainable_data(x, y)\n",
    "model = my_MultinomialNB(x_train,x_test,y_train,y_test)"
   ]
  },
  {
   "cell_type": "code",
   "execution_count": 18,
   "metadata": {},
   "outputs": [
    {
     "name": "stdout",
     "output_type": "stream",
     "text": [
      "length of the vocabulary is 34591\n",
      "Shape of the sparse matrix:  (6474, 34591)\n",
      "Non-Zero occurences:  374430\n",
      "Density of the matrix =  0.16719944269174464\n",
      "Confusion Matrix for Multinomial Naive Bayes:\n",
      "[[534  70]\n",
      " [134 557]]\n",
      "Score: 84.25\n",
      "Classification Report:               precision    recall  f1-score   support\n",
      "\n",
      "          -1       0.80      0.88      0.84       604\n",
      "           1       0.89      0.81      0.85       691\n",
      "\n",
      "    accuracy                           0.84      1295\n",
      "   macro avg       0.84      0.85      0.84      1295\n",
      "weighted avg       0.85      0.84      0.84      1295\n",
      "\n"
     ]
    }
   ],
   "source": [
    "vocab, x, y = set_up_data(data, ignore_Neutral_reviews=True, use_CountVectorizer=False)\n",
    "x_train,x_test,y_train,y_test = get_trainable_data(x, y)\n",
    "model = my_MultinomialNB(x_train,x_test,y_train,y_test)"
   ]
  },
  {
   "cell_type": "markdown",
   "metadata": {},
   "source": [
    "### Best Model Setting"
   ]
  },
  {
   "cell_type": "code",
   "execution_count": 12,
   "metadata": {},
   "outputs": [
    {
     "name": "stdout",
     "output_type": "stream",
     "text": [
      "length of the vocabulary is 34591\n",
      "Shape of the sparse matrix:  (6474, 34591)\n",
      "Non-Zero occurences:  374430\n",
      "Density of the matrix =  0.16719944269174464\n",
      "Confusion Matrix for Multinomial Naive Bayes:\n",
      "[[515  89]\n",
      " [ 99 592]]\n",
      "Score: 85.48\n",
      "Classification Report:\n",
      "               precision    recall  f1-score   support\n",
      "\n",
      "          -1       0.84      0.85      0.85       604\n",
      "           1       0.87      0.86      0.86       691\n",
      "\n",
      "    accuracy                           0.85      1295\n",
      "   macro avg       0.85      0.85      0.85      1295\n",
      "weighted avg       0.86      0.85      0.85      1295\n",
      "\n"
     ]
    }
   ],
   "source": [
    "vocab, x, y = set_up_data(data, ignore_Neutral_reviews=True, use_CountVectorizer=True)\n",
    "x_train,x_test,y_train,y_test = get_trainable_data(x, y)\n",
    "best_model = my_MultinomialNB(x_train,x_test,y_train,y_test)"
   ]
  },
  {
   "cell_type": "markdown",
   "metadata": {},
   "source": [
    "### Naive Bayes, KNN, MLP, RandomForest, SVM\n",
    "### To make the experiements fair, all from sklearn package"
   ]
  },
  {
   "cell_type": "code",
   "execution_count": 58,
   "metadata": {},
   "outputs": [
    {
     "name": "stdout",
     "output_type": "stream",
     "text": [
      "Confusion Matrix for Multinomial Naive Bayes:\n",
      "[[515  89]\n",
      " [ 99 592]]\n",
      "Score: 85.48\n",
      "Classification Report:\n",
      "               precision    recall  f1-score   support\n",
      "\n",
      "          -1       0.84      0.85      0.85       604\n",
      "           1       0.87      0.86      0.86       691\n",
      "\n",
      "    accuracy                           0.85      1295\n",
      "   macro avg       0.85      0.85      0.85      1295\n",
      "weighted avg       0.86      0.85      0.85      1295\n",
      "\n",
      "----------------------------------------------------\n",
      "Confusion Matrix for K Neighbors Classifier:\n",
      "[[315 289]\n",
      " [161 530]]\n",
      "Score:  65.25\n",
      "Classification Report:\n",
      "              precision    recall  f1-score   support\n",
      "\n",
      "          -1       0.66      0.52      0.58       604\n",
      "           1       0.65      0.77      0.70       691\n",
      "\n",
      "    accuracy                           0.65      1295\n",
      "   macro avg       0.65      0.64      0.64      1295\n",
      "weighted avg       0.65      0.65      0.65      1295\n",
      "\n",
      "----------------------------------------------------\n",
      "Confusion Matrix for Multilayer Perceptron Classifier:\n",
      "[[507  97]\n",
      " [111 580]]\n",
      "Score: 83.94\n",
      "Classification Report:\n",
      "              precision    recall  f1-score   support\n",
      "\n",
      "          -1       0.82      0.84      0.83       604\n",
      "           1       0.86      0.84      0.85       691\n",
      "\n",
      "    accuracy                           0.84      1295\n",
      "   macro avg       0.84      0.84      0.84      1295\n",
      "weighted avg       0.84      0.84      0.84      1295\n",
      "\n",
      "----------------------------------------------------\n",
      "Confusion Matrix for Random Forest Classifier:\n",
      "[[526  78]\n",
      " [162 529]]\n",
      "Score: 81.47\n",
      "Classification Report:\n",
      "               precision    recall  f1-score   support\n",
      "\n",
      "          -1       0.76      0.87      0.81       604\n",
      "           1       0.87      0.77      0.82       691\n",
      "\n",
      "    accuracy                           0.81      1295\n",
      "   macro avg       0.82      0.82      0.81      1295\n",
      "weighted avg       0.82      0.81      0.81      1295\n",
      "\n",
      "----------------------------------------------------\n",
      "Confusion Matrix for Support Vector Machines:\n",
      "[[500 104]\n",
      " [141 550]]\n",
      "Score: 81.08\n",
      "Classification Report:\n",
      "               precision    recall  f1-score   support\n",
      "\n",
      "          -1       0.78      0.83      0.80       604\n",
      "           1       0.84      0.80      0.82       691\n",
      "\n",
      "    accuracy                           0.81      1295\n",
      "   macro avg       0.81      0.81      0.81      1295\n",
      "weighted avg       0.81      0.81      0.81      1295\n",
      "\n",
      "----------------------------------------------------\n"
     ]
    }
   ],
   "source": [
    "Naive_Bayes_model = my_MultinomialNB(x_train,x_test,y_train,y_test)\n",
    "print(\"----------------------------------------------------\")\n",
    "KNN_model = my_KNeighborsClassifier(x_train,x_test,y_train,y_test)\n",
    "print(\"----------------------------------------------------\")\n",
    "MLP_model = my_MLPClassifier(x_train,x_test,y_train,y_test)\n",
    "print(\"----------------------------------------------------\")\n",
    "RF_model = my_RandomForest(x_train,x_test,y_train,y_test)\n",
    "print(\"----------------------------------------------------\")\n",
    "SVM_model = my_SVM(x_train,x_test,y_train,y_test)\n",
    "print(\"----------------------------------------------------\")"
   ]
  },
  {
   "cell_type": "markdown",
   "metadata": {},
   "source": [
    "## Show some prediction results"
   ]
  },
  {
   "cell_type": "code",
   "execution_count": 77,
   "metadata": {},
   "outputs": [
    {
     "name": "stdout",
     "output_type": "stream",
     "text": [
      "I used to frequent the Lost Leaf almost daily starting the day they opened, unfortunately I cannot say the same anymore. I used to love the refrigerator full of beers, the music, and the cool little home, not to mention the biggest thing, the promise of a full bar. Now, everytime I go there it's full of douchebags, they are out of the beer I want, and the music has somehow become sucky. Perhaps the biggest kicker... there is still no full bar! The servers are surly kids, who have the audacity to tell you were you cannot stand, seemingly forgetting they work in the hospitality industry. If this were a city with a ton of good bars, that would never fly. But since they are one of the only games in the area, most people go back just out of convienence. The last time I was there, we coaxed a bum to dance to 1920's tunes that were being played out of the treehouse out front. That was about the only redeeming quality. And I swear if I see one more dude with girls jeans trying to look cool with a bomber of the worst beer imaginable I'm gonna snap.\n",
      "\n",
      "Thanks for ruining what could have been an awesome hang out spot guys.\n",
      "Actual Sentiment:  -1\n",
      "Predicted Sentiment: 0\n",
      "------------------------------------------------------------------------\n",
      "There are a lot of things I miss about SoCal and one of those things is the rich and ever present multicultural food experiences. So I've been on a mission lately and I am quite the happy camper now that we've found legit pupusas here in Phoenix. \n",
      "\n",
      "Salvadoreno is a neat hole in the wall joint that just screams authenticity with a family run affair and kitschy decor on the wall. We arrived early for the dinner hour on a weekday so there wasn't any other customers in there at the time. A little disconcerting at first had I not read the other Yelp reviews. The service was pleasant but the food out a little slow. Not a big deal since everything came out so freshly hot and just prepared. \n",
      "\n",
      "With the four of us in our party we managed to try the pupusas in carne asada, revueltas (pork, beans and cheese) and the loroco flower (a squash/okra like veggie) with cheese. The pupusa dough was perfect and perfectly fried as well. The accompanying rice was buttery and delicious. The homemade tortilla chips were sinfully satisfying and the fried plantains (a separate order) added a fabulous twist to each bite of pupusa. \n",
      "\n",
      "All in all we were pleased with our meal and I was even more pleased that Salvadoreno is fairly close to home. We will surely be headed back. \n",
      "\n",
      "Note to self: the horchata here is not the typical rice and cinnamon drink you're used to from the Mexican joints like Albertos. Here, The menu described it as a morrow seed drink. Since it was not what I was expecting I had a hard time drinking it but it WAS good...just in a different way that's going to take some getting used to.\n",
      "Actual Sentiment:  0\n",
      "Predicted Sentiment: 1\n",
      "------------------------------------------------------------------------\n",
      "The facility is a bit dated, but the service is great.  Dr. Rios is patient and thorough, and his staff are friendly and efficient.  Dr. Rios gave me several different alternative contacts to try in order to make sure that I was getting the right fit for me - it made a big difference.  Who knew that they make bi-focal contacts now?  They're great.\n",
      "Actual Sentiment:  1\n",
      "Predicted Sentiment: 1\n",
      "------------------------------------------------------------------------\n",
      "This is by far the best farmer's market I've been to in the Valley.  Still small by comparison to LA and the Bay Area but is off to a great start with lots of potential and space to grow into.\n",
      "\n",
      "McClendon has a great spread of high quality mainly organic produce and is constantly restocking so it's ok if you don't get there first thing.  It was exciting to see beautiful Tuscan kale and broccoli rabe at prices lower than Sprouts.  Meyer lemons and blood oranges were also available.\n",
      "\n",
      "Phoenician's outstanding loaves were only $3. You're welcome to sample - we particularly liked the Olive Walnut and Dark Chocolate Cherry.\n",
      "\n",
      "We enjoyed Digestif's Frittata ($4) made with thin layers of potato, eggs, pork belly and spinach.  Other combinations available were Dandelion with Goat Cheese and Mushrooms with Garlic Confit. Executive Chef Payton Curry is also there to demonstrate pulling fresh mozzarella which is served with a variety of sauces and toppings,\n",
      "\n",
      "It was fun walking around this bustling market sampling food, like tamales, which we intend to come back for next week.  If I can get myself out of bed at a decent hour on Sat, I'll be here for sure every week until the season ends in May.\n",
      "Actual Sentiment:  1\n",
      "Predicted Sentiment: 1\n",
      "------------------------------------------------------------------------\n",
      "Wait a second...I have not written a review!  This is nuts!!!!!\n",
      "\n",
      "Anyways...I adore this place.  LGO and the pizzeria are my favorite places in the world...lol...I am here at least 4-6 times per week.  It is nuts!  Anyways..the reason I am here all the time is because it is FABULOUS!!!!  This place can never go wrong!  The orange and fennel salad it amazing!  It is the perfect mix and each bite and a delight in your mouth and to your taste buds!  I often get this salad through out the week.  I love the kale and quinoa salad too!  It is my go to salad.  I am obsessed with the avocado pizza with prosciutto and goat cheese and the roasted corn pizza with prosciutto.  I wish I could get enough but I cannot!  The ambiance is awesome! Mr.Lynn is a genius and made this place so welcoming and open.  I love how its so laid back and romantic at the same time.  The parking is difficult, but you expect that since it is so popular!  Now the Peanut Butter Pie!!!  OMG OMG OMG!!  There are no words...it is DELICIOUS!!  I try to refuse every time but I cannot.  I really enjoy the sangria.  The wine selection is great!  I just love this place!!!!\n",
      "Actual Sentiment:  1\n",
      "Predicted Sentiment: 1\n",
      "------------------------------------------------------------------------\n",
      "Overal Accuracy:  0.6\n"
     ]
    }
   ],
   "source": [
    "# randomly test 5 texts.\n",
    "def random_test(size,data,model):\n",
    "    np.random.seed(1)\n",
    "    random_number = np.random.choice(len(data['text']),size = size)\n",
    "    stmt_test = data['sentiment'][random_number]\n",
    "    prd_stmt_a = np.empty(shape = [size,0])\n",
    "    for i in random_number:\n",
    "        txt_test = data['text'][i]\n",
    "        \n",
    "        print(txt_test)\n",
    "        print(\"Actual Sentiment: \",data['sentiment'][i])\n",
    "        txt_test_t = vocab.transform([txt_test])\n",
    "        prd_stmt = model.predict(txt_test_t)[0] #predicted value\n",
    "        print(\"Predicted Sentiment:\", prd_stmt)\n",
    "        prd_stmt_a = np.append(prd_stmt_a, prd_stmt)\n",
    "        print(\"------------------------------------------------------------------------\")\n",
    "    score = ((stmt_test==prd_stmt_a).mean())\n",
    "    print('Overal Accuracy: ', score)\n",
    "random_test(5,data,Naive_Bayes_model)"
   ]
  }
 ],
 "metadata": {
  "kernelspec": {
   "display_name": "Python [conda env:nltk]",
   "language": "python",
   "name": "conda-env-nltk-py"
  },
  "language_info": {
   "codemirror_mode": {
    "name": "ipython",
    "version": 3
   },
   "file_extension": ".py",
   "mimetype": "text/x-python",
   "name": "python",
   "nbconvert_exporter": "python",
   "pygments_lexer": "ipython3",
   "version": "3.7.4"
  }
 },
 "nbformat": 4,
 "nbformat_minor": 2
}
